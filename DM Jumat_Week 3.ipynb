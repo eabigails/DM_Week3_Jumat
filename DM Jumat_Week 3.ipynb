{
 "cells": [
  {
   "cell_type": "markdown",
   "metadata": {},
   "source": [
    "**DATA MINING** - EUGENE ABIGAIL SETIAWAN (0706022210061)"
   ]
  },
  {
   "cell_type": "markdown",
   "metadata": {},
   "source": [
    "1. FAKTORIAL"
   ]
  },
  {
   "cell_type": "code",
   "execution_count": 2,
   "metadata": {},
   "outputs": [
    {
     "name": "stdout",
     "output_type": "stream",
     "text": [
      "Faktorial dari 10 adalah 3628800\n"
     ]
    }
   ],
   "source": [
    "def faktorial(n):\n",
    "    if n == 0 or n == 1:\n",
    "        return 1\n",
    "    else:\n",
    "        return n * faktorial(n - 1)\n",
    "\n",
    "angka = int(input(\"Masukkan angka untuk dihitung faktorialnya: \"))\n",
    "print(f\"Faktorial dari {angka} adalah {faktorial(angka)}\")\n"
   ]
  },
  {
   "cell_type": "markdown",
   "metadata": {},
   "source": [
    "2. FIBONACCI"
   ]
  },
  {
   "cell_type": "code",
   "execution_count": 4,
   "metadata": {},
   "outputs": [
    {
     "name": "stdout",
     "output_type": "stream",
     "text": [
      "Fibonacci ke-8 adalah 21\n"
     ]
    }
   ],
   "source": [
    "def fibonacci(n):\n",
    "    if n == 1 or n == 2:\n",
    "        return 1\n",
    "    else:\n",
    "        return fibonacci(n - 1) + fibonacci(n - 2)\n",
    "\n",
    "angka = int(input(\"Masukkan posisi deret Fibonacci yang ingin dihitung: \"))\n",
    "print(f\"Fibonacci ke-{angka} adalah {fibonacci(angka)}\")\n"
   ]
  },
  {
   "cell_type": "markdown",
   "metadata": {},
   "source": [
    "3. PALINDROME"
   ]
  },
  {
   "cell_type": "code",
   "execution_count": 6,
   "metadata": {},
   "outputs": [
    {
     "name": "stdout",
     "output_type": "stream",
     "text": [
      "'api' bukan palindrome.\n"
     ]
    }
   ],
   "source": [
    "def is_palindrome(s):\n",
    "    if len(s) <= 1:\n",
    "        return True\n",
    "    elif s[0] != s[-1]:\n",
    "        return False\n",
    "    else:\n",
    "        return is_palindrome(s[1:-1])\n",
    "\n",
    "kata = input(\"Masukkan kata: \").lower()\n",
    "if is_palindrome(kata):\n",
    "    print(f\"'{kata}' adalah palindrome.\")\n",
    "else:\n",
    "    print(f\"'{kata}' bukan palindrome.\")\n"
   ]
  },
  {
   "cell_type": "markdown",
   "metadata": {},
   "source": [
    "4. SUM OF LIST"
   ]
  },
  {
   "cell_type": "code",
   "execution_count": 7,
   "metadata": {},
   "outputs": [
    {
     "name": "stdout",
     "output_type": "stream",
     "text": [
      "Jumlah dari deret angka adalah 43\n"
     ]
    }
   ],
   "source": [
    "def sum_of_list(numbers):\n",
    "    if len(numbers) == 0:\n",
    "        return 0\n",
    "    else:\n",
    "        return numbers[0] + sum_of_list(numbers[1:])\n",
    "\n",
    "numbers = list(map(int, input(\"Masukkan angka-angka yang dipisahkan dengan spasi: \").split()))\n",
    "print(f\"Jumlah dari deret angka adalah {sum_of_list(numbers)}\")\n"
   ]
  },
  {
   "cell_type": "markdown",
   "metadata": {},
   "source": [
    "5. MAXIMUM VALUE"
   ]
  },
  {
   "cell_type": "code",
   "execution_count": 8,
   "metadata": {},
   "outputs": [
    {
     "name": "stdout",
     "output_type": "stream",
     "text": [
      "Bilangan terbesar adalah 39\n"
     ]
    }
   ],
   "source": [
    "def find_max(numbers):\n",
    "    if len(numbers) == 1:\n",
    "        return numbers[0]\n",
    "    else:\n",
    "        max_of_rest = find_max(numbers[1:])\n",
    "        return numbers[0] if numbers[0] > max_of_rest else max_of_rest\n",
    "\n",
    "numbers = list(map(int, input(\"Masukkan daftar angka yang dipisahkan spasi: \").split()))\n",
    "print(f\"Bilangan terbesar adalah {find_max(numbers)}\")\n"
   ]
  },
  {
   "cell_type": "markdown",
   "metadata": {},
   "source": [
    "6. ENTROPY"
   ]
  },
  {
   "cell_type": "code",
   "execution_count": 9,
   "metadata": {},
   "outputs": [
    {
     "name": "stdout",
     "output_type": "stream",
     "text": [
      "Entropy = 1.0\n"
     ]
    }
   ],
   "source": [
    "import math\n",
    "\n",
    "def entropy(m, n):\n",
    "    if m == 0 or n == 0:  \n",
    "        return 0\n",
    "    p_m = m / (m + n)\n",
    "    p_n = n / (m + n)\n",
    "    return -(p_m * math.log2(p_m) + p_n * math.log2(p_n))\n",
    "\n",
    "print(f\"Entropy = {entropy(2, 2)}\")\n"
   ]
  },
  {
   "cell_type": "markdown",
   "metadata": {},
   "source": [
    "7. GINI"
   ]
  },
  {
   "cell_type": "code",
   "execution_count": 10,
   "metadata": {},
   "outputs": [
    {
     "name": "stdout",
     "output_type": "stream",
     "text": [
      "Gini Index = 0.5\n"
     ]
    }
   ],
   "source": [
    "def gini_index(m, n):\n",
    "    if m == 0 or n == 0:\n",
    "        return 0\n",
    "    p_m = m / (m + n)\n",
    "    p_n = n / (m + n)\n",
    "    return 1 - (p_m**2 + p_n**2)\n",
    "print(f\"Gini Index = {gini_index(2, 2)}\")\n"
   ]
  },
  {
   "cell_type": "markdown",
   "metadata": {},
   "source": [
    "8. CLASSIFICATION ERROR"
   ]
  },
  {
   "cell_type": "code",
   "execution_count": 11,
   "metadata": {},
   "outputs": [
    {
     "name": "stdout",
     "output_type": "stream",
     "text": [
      "Classification Error = 0.5\n"
     ]
    }
   ],
   "source": [
    "def classification_error(m, n):\n",
    "    if m == 0 or n == 0: \n",
    "        return 0\n",
    "    p_m = m / (m + n)\n",
    "    return 1 - max(p_m, 1 - p_m)\n",
    "\n",
    "print(f\"Classification Error = {classification_error(2, 2)}\")\n"
   ]
  }
 ],
 "metadata": {
  "kernelspec": {
   "display_name": "base",
   "language": "python",
   "name": "python3"
  },
  "language_info": {
   "codemirror_mode": {
    "name": "ipython",
    "version": 3
   },
   "file_extension": ".py",
   "mimetype": "text/x-python",
   "name": "python",
   "nbconvert_exporter": "python",
   "pygments_lexer": "ipython3",
   "version": "3.11.4"
  }
 },
 "nbformat": 4,
 "nbformat_minor": 2
}
